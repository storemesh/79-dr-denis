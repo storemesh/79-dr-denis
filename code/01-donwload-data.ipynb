{
 "cells": [
  {
   "cell_type": "code",
   "execution_count": 1,
   "id": "40783277",
   "metadata": {},
   "outputs": [
    {
     "name": "stdout",
     "output_type": "stream",
     "text": [
      "Requirement already satisfied: opencv-python in /usr/local/lib/python3.8/dist-packages (4.8.0.74)\n",
      "Requirement already satisfied: numpy>=1.17.0 in /usr/local/lib/python3.8/dist-packages (from opencv-python) (1.23.5)\n",
      "\u001b[33mWARNING: Running pip as the 'root' user can result in broken permissions and conflicting behaviour with the system package manager. It is recommended to use a virtual environment instead: https://pip.pypa.io/warnings/venv\u001b[0m\u001b[33m\n",
      "\u001b[0m\n",
      "\u001b[1m[\u001b[0m\u001b[34;49mnotice\u001b[0m\u001b[1;39;49m]\u001b[0m\u001b[39;49m A new release of pip is available: \u001b[0m\u001b[31;49m23.1.2\u001b[0m\u001b[39;49m -> \u001b[0m\u001b[32;49m23.2.1\u001b[0m\n",
      "\u001b[1m[\u001b[0m\u001b[34;49mnotice\u001b[0m\u001b[1;39;49m]\u001b[0m\u001b[39;49m To update, run: \u001b[0m\u001b[32;49mpython3 -m pip install --upgrade pip\u001b[0m\n",
      "Note: you may need to restart the kernel to use updated packages.\n"
     ]
    }
   ],
   "source": [
    "# pip install opencv-python"
   ]
  },
  {
   "cell_type": "code",
   "execution_count": 2,
   "id": "7d088e4e",
   "metadata": {},
   "outputs": [],
   "source": [
    "import os\n",
    "import json\n",
    "import requests\n",
    "from tqdm.auto import tqdm\n",
    "import urllib\n",
    "import cv2\n",
    "import numpy as np\n",
    "import threading\n",
    "import math"
   ]
  },
  {
   "cell_type": "code",
   "execution_count": 3,
   "id": "b2c47896",
   "metadata": {},
   "outputs": [],
   "source": [
    "host = \"192.168.24.160:8082\"\n",
    "token = \"e764506728e98e51b5659d386757ca83ca8744c5\"\n",
    "projects = {\n",
    "    7: 'healed',\n",
    "    6: 'healing',\n",
    "    5: 'disease'\n",
    "    \n",
    "}\n",
    "base_dir = 'dataset'\n",
    "os.makedirs(base_dir, exist_ok=True)"
   ]
  },
  {
   "cell_type": "code",
   "execution_count": 10,
   "id": "67f8a177",
   "metadata": {},
   "outputs": [
    {
     "name": "stdout",
     "output_type": "stream",
     "text": [
      "Saved annotations healed => 446\n",
      "Saved annotations healing => 350\n",
      "Saved annotations disease => 350\n"
     ]
    }
   ],
   "source": [
    "annotations = {}\n",
    "for project_id, project_name in projects.items():\n",
    "    data = requests.get(f\"http://{host}/api/projects/{project_id}/export?exportType=JSON\", \n",
    "                 headers={\n",
    "                     'Authorization': f\"Token {token}\"\n",
    "                 }\n",
    "    )\n",
    "    annotation = data.json()\n",
    "    [elm.update({'class': project_name}) for elm in annotation]\n",
    "    annotations[project_name] = annotation\n",
    "    with open(f'dataset/annotations-{project_name}.json', 'w') as f:\n",
    "        json.dump(annotations, f)\n",
    "    print(f\"Saved annotations {project_name} => {len(annotation)}\")"
   ]
  },
  {
   "cell_type": "code",
   "execution_count": null,
   "id": "ce6334d8",
   "metadata": {},
   "outputs": [],
   "source": []
  },
  {
   "cell_type": "code",
   "execution_count": null,
   "id": "0ec4f3b9",
   "metadata": {},
   "outputs": [],
   "source": []
  },
  {
   "cell_type": "code",
   "execution_count": 11,
   "id": "80380ebb",
   "metadata": {},
   "outputs": [
    {
     "name": "stdout",
     "output_type": "stream",
     "text": [
      "number of dataset : 1146\n"
     ]
    }
   ],
   "source": [
    "datasets = []\n",
    "for dataset_name, dataset in annotations.items():\n",
    "    datasets += dataset\n",
    "with open(f'dataset/annotations.json', 'w') as f:\n",
    "        json.dump(datasets, f)\n",
    "print(f\"number of dataset : {len(datasets)}\")"
   ]
  },
  {
   "cell_type": "code",
   "execution_count": null,
   "id": "5cf9a6b0",
   "metadata": {},
   "outputs": [],
   "source": []
  },
  {
   "cell_type": "code",
   "execution_count": 6,
   "id": "8aead1e9",
   "metadata": {},
   "outputs": [],
   "source": [
    "def splitList(data, num, num_threads=8):\n",
    "    window = len(data)/num_threads\n",
    "    start = math.ceil(num * window)\n",
    "    stop = math.ceil((num+1) * window)\n",
    "    return data[start:stop]\n",
    "\n",
    "def get_image(thread_no, dataset):\n",
    "    for item in tqdm(dataset):\n",
    "        data_path = item.get('data', {}).get('image')\n",
    "        file_name = data_path.split('/')[-1]\n",
    "\n",
    "        req = urllib.request.Request(f'http://{host}{data_path}')\n",
    "        req.add_header('Authorization', f\"Token {token}\")\n",
    "        req = urllib.request.urlopen(req)\n",
    "        \n",
    "        arr = np.asarray(bytearray(req.read()), dtype=np.uint8)\n",
    "        frame = cv2.imdecode(arr, -1)\n",
    "        \n",
    "        image_path = os.path.join(base_dir, 'images', file_name)\n",
    "        cv2.imwrite(image_path, frame)"
   ]
  },
  {
   "cell_type": "code",
   "execution_count": 7,
   "id": "cde1bd24",
   "metadata": {},
   "outputs": [
    {
     "name": "stdout",
     "output_type": "stream",
     "text": [
      "Main    : create and start thread 0.\n",
      "Main    : create and start thread 1.\n",
      "Main    : create and start thread 2.\n",
      "Main    : create and start thread 3.\n",
      "Main    : create and start thread 4.\n",
      "Main    : create and start thread 5.\n",
      "Main    : create and start thread 6.\n",
      "Main    : create and start thread 7.\n",
      "Main    : create and start thread 8.\n",
      "Main    : create and start thread 9.\n",
      "Main    : create and start thread 10.\n",
      "Main    : create and start thread 11.\n",
      "Main    : before joining thread 0.\n"
     ]
    },
    {
     "data": {
      "application/vnd.jupyter.widget-view+json": {
       "model_id": "e0d7661d39aa408f80b96772c1340b94",
       "version_major": 2,
       "version_minor": 0
      },
      "text/plain": [
       "  0%|          | 0/95 [00:00<?, ?it/s]"
      ]
     },
     "metadata": {},
     "output_type": "display_data"
    },
    {
     "data": {
      "application/vnd.jupyter.widget-view+json": {
       "model_id": "058e138745d1457fae5968e117b8d5a3",
       "version_major": 2,
       "version_minor": 0
      },
      "text/plain": [
       "  0%|          | 0/95 [00:00<?, ?it/s]"
      ]
     },
     "metadata": {},
     "output_type": "display_data"
    },
    {
     "data": {
      "application/vnd.jupyter.widget-view+json": {
       "model_id": "8f79e7b41f5f406792a1c61243485b04",
       "version_major": 2,
       "version_minor": 0
      },
      "text/plain": [
       "  0%|          | 0/96 [00:00<?, ?it/s]"
      ]
     },
     "metadata": {},
     "output_type": "display_data"
    },
    {
     "data": {
      "application/vnd.jupyter.widget-view+json": {
       "model_id": "f7d11ddd335344d2a00d668914473988",
       "version_major": 2,
       "version_minor": 0
      },
      "text/plain": [
       "  0%|          | 0/95 [00:00<?, ?it/s]"
      ]
     },
     "metadata": {},
     "output_type": "display_data"
    },
    {
     "data": {
      "application/vnd.jupyter.widget-view+json": {
       "model_id": "23863f71616a4cdb82ba704d7459efb7",
       "version_major": 2,
       "version_minor": 0
      },
      "text/plain": [
       "  0%|          | 0/95 [00:00<?, ?it/s]"
      ]
     },
     "metadata": {},
     "output_type": "display_data"
    },
    {
     "data": {
      "application/vnd.jupyter.widget-view+json": {
       "model_id": "e473c84233c7445f9ec5a26164cde8aa",
       "version_major": 2,
       "version_minor": 0
      },
      "text/plain": [
       "  0%|          | 0/96 [00:00<?, ?it/s]"
      ]
     },
     "metadata": {},
     "output_type": "display_data"
    },
    {
     "data": {
      "application/vnd.jupyter.widget-view+json": {
       "model_id": "f9899d22abaa4ee1aead8468c98ccd50",
       "version_major": 2,
       "version_minor": 0
      },
      "text/plain": [
       "  0%|          | 0/95 [00:00<?, ?it/s]"
      ]
     },
     "metadata": {},
     "output_type": "display_data"
    },
    {
     "data": {
      "application/vnd.jupyter.widget-view+json": {
       "model_id": "a142db841568477ab13f1562c01cd8d7",
       "version_major": 2,
       "version_minor": 0
      },
      "text/plain": [
       "  0%|          | 0/96 [00:00<?, ?it/s]"
      ]
     },
     "metadata": {},
     "output_type": "display_data"
    },
    {
     "data": {
      "application/vnd.jupyter.widget-view+json": {
       "model_id": "a2d09b7cbd7046568de86838bce51235",
       "version_major": 2,
       "version_minor": 0
      },
      "text/plain": [
       "  0%|          | 0/96 [00:00<?, ?it/s]"
      ]
     },
     "metadata": {},
     "output_type": "display_data"
    },
    {
     "data": {
      "application/vnd.jupyter.widget-view+json": {
       "model_id": "f639b76794ac45f7b1311f910e3a6002",
       "version_major": 2,
       "version_minor": 0
      },
      "text/plain": [
       "  0%|          | 0/95 [00:00<?, ?it/s]"
      ]
     },
     "metadata": {},
     "output_type": "display_data"
    },
    {
     "data": {
      "application/vnd.jupyter.widget-view+json": {
       "model_id": "f7817d40ea4b4e20bc6591d22a5773a8",
       "version_major": 2,
       "version_minor": 0
      },
      "text/plain": [
       "  0%|          | 0/96 [00:00<?, ?it/s]"
      ]
     },
     "metadata": {},
     "output_type": "display_data"
    },
    {
     "data": {
      "application/vnd.jupyter.widget-view+json": {
       "model_id": "77825ff4dd124479b4a5e223c54ea4e3",
       "version_major": 2,
       "version_minor": 0
      },
      "text/plain": [
       "  0%|          | 0/96 [00:00<?, ?it/s]"
      ]
     },
     "metadata": {},
     "output_type": "display_data"
    },
    {
     "name": "stdout",
     "output_type": "stream",
     "text": [
      "Main    : thread 0 done\n",
      "Main    : before joining thread 1.\n",
      "Main    : thread 1 done\n",
      "Main    : before joining thread 2.\n",
      "Main    : thread 2 done\n",
      "Main    : before joining thread 3.\n",
      "Main    : thread 3 done\n",
      "Main    : before joining thread 4.\n",
      "Main    : thread 4 done\n",
      "Main    : before joining thread 5.\n",
      "Main    : thread 5 done\n",
      "Main    : before joining thread 6.\n",
      "Main    : thread 6 done\n",
      "Main    : before joining thread 7.\n",
      "Main    : thread 7 done\n",
      "Main    : before joining thread 8.\n",
      "Main    : thread 8 done\n",
      "Main    : before joining thread 9.\n",
      "Main    : thread 9 done\n",
      "Main    : before joining thread 10.\n",
      "Main    : thread 10 done\n",
      "Main    : before joining thread 11.\n",
      "Main    : thread 11 done\n"
     ]
    }
   ],
   "source": [
    "NUM_THREAD = 12\n",
    "os.makedirs(os.path.join(base_dir, 'images'), exist_ok=True)\n",
    "    \n",
    "threads=[]\n",
    "for i in range(NUM_THREAD):\n",
    "    print(f\"Main    : create and start thread {i}.\")\n",
    "    blukData = splitList(datasets, i, num_threads=NUM_THREAD)\n",
    "    thread = threading.Thread(target=get_image, args=(i,blukData, ) )\n",
    "    threads.append(thread)\n",
    "    thread.start()\n",
    "    \n",
    "for index, thread in enumerate(threads):\n",
    "    print(f\"Main    : before joining thread {index}.\")\n",
    "    thread.join()\n",
    "    print(f\"Main    : thread {index} done\")"
   ]
  },
  {
   "cell_type": "code",
   "execution_count": null,
   "id": "37d508e0",
   "metadata": {},
   "outputs": [],
   "source": []
  }
 ],
 "metadata": {
  "kernelspec": {
   "display_name": "Python 3 (ipykernel)",
   "language": "python",
   "name": "python3"
  },
  "language_info": {
   "codemirror_mode": {
    "name": "ipython",
    "version": 3
   },
   "file_extension": ".py",
   "mimetype": "text/x-python",
   "name": "python",
   "nbconvert_exporter": "python",
   "pygments_lexer": "ipython3",
   "version": "3.8.10"
  }
 },
 "nbformat": 4,
 "nbformat_minor": 5
}
