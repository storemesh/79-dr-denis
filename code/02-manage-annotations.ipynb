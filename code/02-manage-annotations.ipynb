{
 "cells": [
  {
   "cell_type": "code",
   "execution_count": 27,
   "id": "aebe7cb0",
   "metadata": {},
   "outputs": [],
   "source": [
    "import os\n",
    "import glob\n",
    "import json\n",
    "import shutil\n",
    "import pandas as pd\n",
    "import math\n",
    "\n",
    "from sklearn.model_selection import train_test_split"
   ]
  },
  {
   "cell_type": "code",
   "execution_count": 28,
   "id": "2c7a33bb",
   "metadata": {},
   "outputs": [],
   "source": [
    "base_dir = 'dataset'"
   ]
  },
  {
   "cell_type": "code",
   "execution_count": 29,
   "id": "1b115d8c",
   "metadata": {},
   "outputs": [
    {
     "name": "stdout",
     "output_type": "stream",
     "text": [
      "annotations-disease.json  annotations.json     \u001b[0m\u001b[01;34mimages\u001b[0m/\r\n",
      "annotations-healed.json   count-dataset.csv\r\n",
      "annotations-healing.json  dataset-healed.json\r\n"
     ]
    }
   ],
   "source": [
    "ls dataset"
   ]
  },
  {
   "cell_type": "code",
   "execution_count": 41,
   "id": "7bd7a04e",
   "metadata": {},
   "outputs": [
    {
     "data": {
      "text/html": [
       "<div>\n",
       "<style scoped>\n",
       "    .dataframe tbody tr th:only-of-type {\n",
       "        vertical-align: middle;\n",
       "    }\n",
       "\n",
       "    .dataframe tbody tr th {\n",
       "        vertical-align: top;\n",
       "    }\n",
       "\n",
       "    .dataframe thead th {\n",
       "        text-align: right;\n",
       "    }\n",
       "</style>\n",
       "<table border=\"1\" class=\"dataframe\">\n",
       "  <thead>\n",
       "    <tr style=\"text-align: right;\">\n",
       "      <th></th>\n",
       "      <th>id</th>\n",
       "      <th>class</th>\n",
       "      <th>annotations</th>\n",
       "      <th>file_upload</th>\n",
       "      <th>data</th>\n",
       "      <th>created_at</th>\n",
       "      <th>updated_at</th>\n",
       "      <th>project</th>\n",
       "    </tr>\n",
       "  </thead>\n",
       "  <tbody>\n",
       "    <tr>\n",
       "      <th>0</th>\n",
       "      <td>3072</td>\n",
       "      <td>healed</td>\n",
       "      <td>[{'id': 3141, 'completed_by': 3, 'result': [{'...</td>\n",
       "      <td>083eb53a-0000000000001-X-20161227-102546-X3XSP...</td>\n",
       "      <td>{'image': '/data/upload/7/083eb53a-00000000000...</td>\n",
       "      <td>2023-03-23 08:57:54.374685+00:00</td>\n",
       "      <td>2023-06-01 09:55:43.540752+00:00</td>\n",
       "      <td>7</td>\n",
       "    </tr>\n",
       "    <tr>\n",
       "      <th>1</th>\n",
       "      <td>3073</td>\n",
       "      <td>healed</td>\n",
       "      <td>[{'id': 3142, 'completed_by': 3, 'result': [{'...</td>\n",
       "      <td>1fc7bd90-001.jpg</td>\n",
       "      <td>{'image': '/data/upload/7/1fc7bd90-001.jpg'}</td>\n",
       "      <td>2023-03-23 08:57:54.374789+00:00</td>\n",
       "      <td>2023-06-01 09:55:59.819153+00:00</td>\n",
       "      <td>7</td>\n",
       "    </tr>\n",
       "    <tr>\n",
       "      <th>2</th>\n",
       "      <td>3074</td>\n",
       "      <td>healed</td>\n",
       "      <td>[{'id': 3143, 'completed_by': 3, 'result': [{'...</td>\n",
       "      <td>081af617-002.jpg</td>\n",
       "      <td>{'image': '/data/upload/7/081af617-002.jpg'}</td>\n",
       "      <td>2023-03-23 08:57:54.374848+00:00</td>\n",
       "      <td>2023-06-01 09:56:15.997657+00:00</td>\n",
       "      <td>7</td>\n",
       "    </tr>\n",
       "  </tbody>\n",
       "</table>\n",
       "</div>"
      ],
      "text/plain": [
       "     id   class                                        annotations  \\\n",
       "0  3072  healed  [{'id': 3141, 'completed_by': 3, 'result': [{'...   \n",
       "1  3073  healed  [{'id': 3142, 'completed_by': 3, 'result': [{'...   \n",
       "2  3074  healed  [{'id': 3143, 'completed_by': 3, 'result': [{'...   \n",
       "\n",
       "                                         file_upload  \\\n",
       "0  083eb53a-0000000000001-X-20161227-102546-X3XSP...   \n",
       "1                                   1fc7bd90-001.jpg   \n",
       "2                                   081af617-002.jpg   \n",
       "\n",
       "                                                data  \\\n",
       "0  {'image': '/data/upload/7/083eb53a-00000000000...   \n",
       "1       {'image': '/data/upload/7/1fc7bd90-001.jpg'}   \n",
       "2       {'image': '/data/upload/7/081af617-002.jpg'}   \n",
       "\n",
       "                         created_at                        updated_at  project  \n",
       "0  2023-03-23 08:57:54.374685+00:00  2023-06-01 09:55:43.540752+00:00        7  \n",
       "1  2023-03-23 08:57:54.374789+00:00  2023-06-01 09:55:59.819153+00:00        7  \n",
       "2  2023-03-23 08:57:54.374848+00:00  2023-06-01 09:56:15.997657+00:00        7  "
      ]
     },
     "execution_count": 41,
     "metadata": {},
     "output_type": "execute_result"
    }
   ],
   "source": [
    "df = pd.read_json(os.path.join(base_dir, 'annotations.json'))\n",
    "df = df.astype({\n",
    "    'created_at': 'string',\n",
    "    'updated_at': 'string'\n",
    "})\n",
    "df = df[['id', 'class', 'annotations', 'file_upload', 'data', 'created_at', 'updated_at', 'project']]\n",
    "df.head(3)"
   ]
  },
  {
   "cell_type": "code",
   "execution_count": 42,
   "id": "d48af7da",
   "metadata": {},
   "outputs": [
    {
     "data": {
      "text/plain": [
       "[{'id': 3141,\n",
       "  'completed_by': 3,\n",
       "  'result': [{'id': 'p3_iMF36X3',\n",
       "    'type': 'polygonlabels',\n",
       "    'value': {'closed': True,\n",
       "     'points': [[7.08502024291498, 66.7185069984448],\n",
       "      [10.931174089068826, 57.85381026438569],\n",
       "      [15.182186234817813, 52.41057542768274],\n",
       "      [17.408906882591094, 47.744945567651634],\n",
       "      [19.635627530364374, 44.32348367029549],\n",
       "      [20.850202429149796, 41.990668740279936],\n",
       "      [23.279352226720647, 43.07931570762053],\n",
       "      [25.708502024291498, 45.41213063763608],\n",
       "      [25.910931174089068, 49.61119751166407],\n",
       "      [23.279352226720647, 68.58475894245723]],\n",
       "     'polygonlabels': ['healed']},\n",
       "    'origin': 'manual',\n",
       "    'to_name': 'image',\n",
       "    'from_name': 'label',\n",
       "    'image_rotation': 0,\n",
       "    'original_width': 1484,\n",
       "    'original_height': 1930}],\n",
       "  'was_cancelled': False,\n",
       "  'ground_truth': False,\n",
       "  'created_at': '2023-06-01T09:55:43.477058Z',\n",
       "  'updated_at': '2023-06-01T09:55:43.477085Z',\n",
       "  'lead_time': 27.668,\n",
       "  'prediction': {},\n",
       "  'result_count': 0,\n",
       "  'unique_id': '7e8d3303-e8c6-4dc5-9738-6a9e68581ba7',\n",
       "  'last_action': None,\n",
       "  'task': 3072,\n",
       "  'project': 7,\n",
       "  'updated_by': 3,\n",
       "  'parent_prediction': None,\n",
       "  'parent_annotation': None,\n",
       "  'last_created_by': None}]"
      ]
     },
     "execution_count": 42,
     "metadata": {},
     "output_type": "execute_result"
    }
   ],
   "source": [
    "df.loc[0, 'annotations']"
   ]
  },
  {
   "cell_type": "code",
   "execution_count": 43,
   "id": "7da4f861",
   "metadata": {},
   "outputs": [
    {
     "data": {
      "text/plain": [
       "array(['healed', 'healing', 'disease'], dtype=object)"
      ]
     },
     "execution_count": 43,
     "metadata": {},
     "output_type": "execute_result"
    }
   ],
   "source": [
    "classes = df['class'].unique()\n",
    "classes"
   ]
  },
  {
   "cell_type": "code",
   "execution_count": 54,
   "id": "9bdeb22f",
   "metadata": {},
   "outputs": [],
   "source": [
    "dataset_splits = {dataset: [] for dataset in ['train', 'test', 'validate']}\n",
    "\n",
    "for cls in classes:\n",
    "    tmp_df = df.copy()\n",
    "    tmp_data = list(tmp_df[tmp_df['class']==cls].T.to_dict().values())\n",
    "    Train, Test = train_test_split(tmp_data, test_size=0.2, random_state=1)\n",
    "    Train, Validate = train_test_split(Train, test_size=0.125, random_state=1)\n",
    "    \n",
    "    [elm.update({'dataset': 'train'}) for elm in Train]\n",
    "    [elm.update({'dataset': 'test'}) for elm in Test]\n",
    "    [elm.update({'dataset': 'validate'}) for elm in Validate]\n",
    "    \n",
    "    dataset_splits['train'] += Train\n",
    "    dataset_splits['test'] += Test \n",
    "    dataset_splits['validate'] += Validate "
   ]
  },
  {
   "cell_type": "code",
   "execution_count": 58,
   "id": "7478bff3",
   "metadata": {},
   "outputs": [
    {
     "data": {
      "text/html": [
       "<div>\n",
       "<style scoped>\n",
       "    .dataframe tbody tr th:only-of-type {\n",
       "        vertical-align: middle;\n",
       "    }\n",
       "\n",
       "    .dataframe tbody tr th {\n",
       "        vertical-align: top;\n",
       "    }\n",
       "\n",
       "    .dataframe thead th {\n",
       "        text-align: right;\n",
       "    }\n",
       "</style>\n",
       "<table border=\"1\" class=\"dataframe\">\n",
       "  <thead>\n",
       "    <tr style=\"text-align: right;\">\n",
       "      <th></th>\n",
       "      <th></th>\n",
       "      <th>numberOfDataset</th>\n",
       "    </tr>\n",
       "    <tr>\n",
       "      <th>dataset</th>\n",
       "      <th>class</th>\n",
       "      <th></th>\n",
       "    </tr>\n",
       "  </thead>\n",
       "  <tbody>\n",
       "    <tr>\n",
       "      <th rowspan=\"3\" valign=\"top\">test</th>\n",
       "      <th>disease</th>\n",
       "      <td>70</td>\n",
       "    </tr>\n",
       "    <tr>\n",
       "      <th>healed</th>\n",
       "      <td>90</td>\n",
       "    </tr>\n",
       "    <tr>\n",
       "      <th>healing</th>\n",
       "      <td>70</td>\n",
       "    </tr>\n",
       "    <tr>\n",
       "      <th rowspan=\"3\" valign=\"top\">train</th>\n",
       "      <th>disease</th>\n",
       "      <td>245</td>\n",
       "    </tr>\n",
       "    <tr>\n",
       "      <th>healed</th>\n",
       "      <td>311</td>\n",
       "    </tr>\n",
       "    <tr>\n",
       "      <th>healing</th>\n",
       "      <td>245</td>\n",
       "    </tr>\n",
       "    <tr>\n",
       "      <th rowspan=\"3\" valign=\"top\">validate</th>\n",
       "      <th>disease</th>\n",
       "      <td>35</td>\n",
       "    </tr>\n",
       "    <tr>\n",
       "      <th>healed</th>\n",
       "      <td>45</td>\n",
       "    </tr>\n",
       "    <tr>\n",
       "      <th>healing</th>\n",
       "      <td>35</td>\n",
       "    </tr>\n",
       "  </tbody>\n",
       "</table>\n",
       "</div>"
      ],
      "text/plain": [
       "                  numberOfDataset\n",
       "dataset  class                   \n",
       "test     disease               70\n",
       "         healed                90\n",
       "         healing               70\n",
       "train    disease              245\n",
       "         healed               311\n",
       "         healing              245\n",
       "validate disease               35\n",
       "         healed                45\n",
       "         healing               35"
      ]
     },
     "execution_count": 58,
     "metadata": {},
     "output_type": "execute_result"
    }
   ],
   "source": [
    "df_count = pd.concat([pd.DataFrame(elm) for dataset, elm in dataset_splits.items()])\\\n",
    "            .groupby(['dataset', 'class'])\\\n",
    "            .agg({'id': 'count'})\\\n",
    "            .rename(columns={'id': 'numberOfDataset'})\n",
    "df_count"
   ]
  },
  {
   "cell_type": "code",
   "execution_count": 59,
   "id": "4caebaee",
   "metadata": {},
   "outputs": [],
   "source": [
    "df_count.reset_index().to_csv(os.path.join(base_dir, 'count-dataset.csv'), index=False)"
   ]
  },
  {
   "cell_type": "code",
   "execution_count": 68,
   "id": "502f07f8",
   "metadata": {},
   "outputs": [
    {
     "data": {
      "text/plain": [
       "['disease', 'healed', 'healing']"
      ]
     },
     "execution_count": 68,
     "metadata": {},
     "output_type": "execute_result"
    }
   ],
   "source": [
    "classes = list(df_count.reset_index()['class'].unique())\n",
    "classes"
   ]
  },
  {
   "cell_type": "code",
   "execution_count": 69,
   "id": "04679154",
   "metadata": {},
   "outputs": [],
   "source": [
    "with open(os.path.join(base_dir, 'dataset-meta.json'), 'w') as f:\n",
    "    data = {\n",
    "        'class': classes\n",
    "    }\n",
    "    json.dump(data, f)"
   ]
  },
  {
   "cell_type": "code",
   "execution_count": null,
   "id": "7e4a31ff",
   "metadata": {},
   "outputs": [],
   "source": []
  },
  {
   "cell_type": "code",
   "execution_count": 61,
   "id": "2cdc7e5f",
   "metadata": {},
   "outputs": [
    {
     "data": {
      "text/plain": [
       "dict_keys(['train', 'test', 'validate'])"
      ]
     },
     "execution_count": 61,
     "metadata": {},
     "output_type": "execute_result"
    }
   ],
   "source": [
    "dataset_splits.keys()"
   ]
  },
  {
   "cell_type": "code",
   "execution_count": 62,
   "id": "8edeb155",
   "metadata": {},
   "outputs": [],
   "source": [
    "for dataset_name, data in dataset_splits.items():\n",
    "    with open(os.path.join(base_dir ,f\"dataset-{dataset_name}.json\"), 'w') as f:\n",
    "        json.dump(data, f) "
   ]
  },
  {
   "cell_type": "code",
   "execution_count": null,
   "id": "2061d0f0",
   "metadata": {},
   "outputs": [],
   "source": []
  }
 ],
 "metadata": {
  "kernelspec": {
   "display_name": "Python 3 (ipykernel)",
   "language": "python",
   "name": "python3"
  },
  "language_info": {
   "codemirror_mode": {
    "name": "ipython",
    "version": 3
   },
   "file_extension": ".py",
   "mimetype": "text/x-python",
   "name": "python",
   "nbconvert_exporter": "python",
   "pygments_lexer": "ipython3",
   "version": "3.8.10"
  }
 },
 "nbformat": 4,
 "nbformat_minor": 5
}
